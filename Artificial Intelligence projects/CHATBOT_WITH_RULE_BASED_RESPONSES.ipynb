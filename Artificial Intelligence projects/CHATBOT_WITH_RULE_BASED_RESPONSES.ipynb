{
  "nbformat": 4,
  "nbformat_minor": 0,
  "metadata": {
    "colab": {
      "provenance": []
    },
    "kernelspec": {
      "name": "python3",
      "display_name": "Python 3"
    },
    "language_info": {
      "name": "python"
    }
  },
  "cells": [
    {
      "cell_type": "code",
      "execution_count": 1,
      "metadata": {
        "colab": {
          "base_uri": "https://localhost:8080/"
        },
        "id": "ToT8EMdEQ632",
        "outputId": "4a009b4f-e879-43aa-fa39-cc6dd133a1b9"
      },
      "outputs": [
        {
          "output_type": "stream",
          "name": "stdout",
          "text": [
            "Chatbot: Hello! I'm here to assist you. Type 'bye' to end the conversation.\n",
            "You: hi\n",
            "Chatbot: Hello!\n",
            "You: how are you\n",
            "Chatbot: I'm just a chatbot, but I'm doing great! How about you?\n",
            "You: what is your name\n",
            "Chatbot: I'm a chatbot created to assist you.\n",
            "You: bye\n",
            "Chatbot: Goodbye! Have a great day!\n"
          ]
        }
      ],
      "source": [
        "import nltk\n",
        "from nltk.chat.util import Chat, reflections\n",
        "\n",
        "# Define pairs of patterns and responses\n",
        "pairs = [\n",
        "    [\"hi|hello|hey\", [\"Hello!\", \"Hi there!\", \"Hey! How can I help you?\"]],\n",
        "    [\"how are you|how are you doing\", [\"I'm just a chatbot, but I'm doing great! How about you?\"]],\n",
        "    [\"what is your name|who are you\", [\"I'm a chatbot created to assist you.\", \"You can call me your virtual assistant.\"]],\n",
        "    [\"bye|goodbye|see you\", [\"Goodbye!\", \"See you later!\", \"Take care!\"]],\n",
        "    [\".*\", [\"Sorry, I didn't understand that. Could you please rephrase?\", \"Hmm, I don't get it. Try asking in a different way.\"]]\n",
        "]\n",
        "\n",
        "# Create the chatbot using the defined pairs\n",
        "chatbot = Chat(pairs, reflections)\n",
        "\n",
        "# Start the conversation\n",
        "print(\"Chatbot: Hello! I'm here to assist you. Type 'bye' to end the conversation.\")\n",
        "\n",
        "while True:\n",
        "    user_input = input(\"You: \").lower()\n",
        "    if user_input in [\"bye\", \"goodbye\", \"exit\"]:\n",
        "        print(\"Chatbot: Goodbye! Have a great day!\")\n",
        "        break\n",
        "    response = chatbot.respond(user_input)\n",
        "    print(\"Chatbot:\", response)"
      ]
    }
  ]
}